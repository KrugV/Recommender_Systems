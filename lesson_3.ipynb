{
 "cells": [
  {
   "cell_type": "markdown",
   "metadata": {
    "id": "y-NKXfLpIHyS"
   },
   "source": [
    "3. Коллаборативная фильтрация"
   ]
  },
  {
   "cell_type": "markdown",
   "metadata": {},
   "source": [
    "А точно нужно сортировать по вероятности?\n",
    "\n",
    "можно сортировать по вероятности, но лучше на основе фактических покупок\n",
    "\n",
    "Какую метрику использовать?\n",
    "\n",
    "надо пробовать разные метрики и использовать те, которые показывают в данном датасете адекватную картину\n",
    "\n",
    "Сколько раз в неделю отпрпавляем рассылку?\n",
    "\n",
    "не более одного\n",
    "\n",
    "В какое время отправляем рассылку?\n",
    "\n",
    "в первой половине дня\n",
    "\n",
    "Будем отправлять одному юзеру много раз наши рекоммендации. Как добиться того, чтобы они хоть немного отличались?\n",
    "\n",
    "Если отправлять не более 1 раза в неделю, то они точно будут отличатся\n",
    "\n",
    "Нужно ли, чтобы в одной рассылке были разные товары? Как определить, что товары разные? Как добиться того, чтобы они были разными?\n",
    "\n",
    "Разные, но которые интересуют юзера."
   ]
  },
  {
   "cell_type": "markdown",
   "metadata": {},
   "source": [
    "Не сделал подбор матрицы т.к. исходных файлов transaction_data.csv и product.csv в материалах урока не нашел.\n",
    "Ниже возможный варинт скрипта, который дает 3 результата подбора матрицы."
   ]
  },
  {
   "cell_type": "code",
   "execution_count": null,
   "metadata": {},
   "outputs": [],
   "source": [
    "%%time\n",
    "\n",
    "model = AlternatingLeastSquares(factors=100, \n",
    "                                regularization=0.001,\n",
    "                                iterations=15, \n",
    "                                calculate_training_loss=True, \n",
    "                                num_threads=8) # K - кол-во билжайших соседей\n",
    "\n",
    "model.fit(csr_matrix(user_item_matrix).T.tocsr(),  # На вход item-user matrix\n",
    "          show_progress=True)\n",
    "\n",
    "result['als_bm25_nunique'] = result['user_id'].apply(lambda x: get_recommendations(x, model=model, N=5))\n",
    "\n",
    "result.apply(lambda row: precision_at_k(row['als_bm25_nunique'], row['actual']), axis=1).mean()"
   ]
  },
  {
   "cell_type": "code",
   "execution_count": null,
   "metadata": {},
   "outputs": [],
   "source": [
    "df_res = pd.DataFrame(columns=['parameters', 'presision_at_k'])\n",
    "i = 0\n",
    "for column in result.columns[2:]:\n",
    "    a = round(result.apply(lambda row: precision_at_k(row[column], row['actual']), axis=1).mean(), 3)\n",
    "    #print(column, a)\n",
    "    #df = pd.DataFrame([column, a])\n",
    "    df_res.loc[i] = [column, a]\n",
    "    i += 1"
   ]
  },
  {
   "cell_type": "code",
   "execution_count": null,
   "metadata": {},
   "outputs": [],
   "source": [
    "df_res.sort_values(by='presision_at_k', ascending=False).head()"
   ]
  }
 ],
 "metadata": {
  "colab": {
   "name": "webinar_3.ipynb",
   "provenance": [],
   "toc_visible": true
  },
  "kernelspec": {
   "display_name": "Python 3",
   "language": "python",
   "name": "python3"
  },
  "language_info": {
   "codemirror_mode": {
    "name": "ipython",
    "version": 3
   },
   "file_extension": ".py",
   "mimetype": "text/x-python",
   "name": "python",
   "nbconvert_exporter": "python",
   "pygments_lexer": "ipython3",
   "version": "3.8.5"
  }
 },
 "nbformat": 4,
 "nbformat_minor": 1
}
